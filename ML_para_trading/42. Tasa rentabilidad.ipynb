{
 "cells": [
  {
   "cell_type": "code",
   "execution_count": 1,
   "metadata": {},
   "outputs": [],
   "source": [
    "import pandas as pd\n",
    "import numpy as np\n",
    "from pandas_datareader import data as wb\n",
    "import matplotlib.pyplot as plt"
   ]
  },
  {
   "cell_type": "code",
   "execution_count": 3,
   "metadata": {},
   "outputs": [
    {
     "data": {
      "text/html": [
       "<div>\n",
       "<style scoped>\n",
       "    .dataframe tbody tr th:only-of-type {\n",
       "        vertical-align: middle;\n",
       "    }\n",
       "\n",
       "    .dataframe tbody tr th {\n",
       "        vertical-align: top;\n",
       "    }\n",
       "\n",
       "    .dataframe thead th {\n",
       "        text-align: right;\n",
       "    }\n",
       "</style>\n",
       "<table border=\"1\" class=\"dataframe\">\n",
       "  <thead>\n",
       "    <tr style=\"text-align: right;\">\n",
       "      <th></th>\n",
       "      <th>High</th>\n",
       "      <th>Low</th>\n",
       "      <th>Open</th>\n",
       "      <th>Close</th>\n",
       "      <th>Volume</th>\n",
       "      <th>Adj Close</th>\n",
       "    </tr>\n",
       "    <tr>\n",
       "      <th>Date</th>\n",
       "      <th></th>\n",
       "      <th></th>\n",
       "      <th></th>\n",
       "      <th></th>\n",
       "      <th></th>\n",
       "      <th></th>\n",
       "    </tr>\n",
       "  </thead>\n",
       "  <tbody>\n",
       "    <tr>\n",
       "      <th>2015-01-02</th>\n",
       "      <td>27.860001</td>\n",
       "      <td>26.837500</td>\n",
       "      <td>27.847500</td>\n",
       "      <td>27.332500</td>\n",
       "      <td>212818400.0</td>\n",
       "      <td>24.696352</td>\n",
       "    </tr>\n",
       "    <tr>\n",
       "      <th>2015-01-05</th>\n",
       "      <td>27.162500</td>\n",
       "      <td>26.352501</td>\n",
       "      <td>27.072500</td>\n",
       "      <td>26.562500</td>\n",
       "      <td>257142000.0</td>\n",
       "      <td>24.000614</td>\n",
       "    </tr>\n",
       "    <tr>\n",
       "      <th>2015-01-06</th>\n",
       "      <td>26.857500</td>\n",
       "      <td>26.157499</td>\n",
       "      <td>26.635000</td>\n",
       "      <td>26.565001</td>\n",
       "      <td>263188400.0</td>\n",
       "      <td>24.002876</td>\n",
       "    </tr>\n",
       "    <tr>\n",
       "      <th>2015-01-07</th>\n",
       "      <td>27.049999</td>\n",
       "      <td>26.674999</td>\n",
       "      <td>26.799999</td>\n",
       "      <td>26.937500</td>\n",
       "      <td>160423600.0</td>\n",
       "      <td>24.339447</td>\n",
       "    </tr>\n",
       "    <tr>\n",
       "      <th>2015-01-08</th>\n",
       "      <td>28.037500</td>\n",
       "      <td>27.174999</td>\n",
       "      <td>27.307501</td>\n",
       "      <td>27.972500</td>\n",
       "      <td>237458000.0</td>\n",
       "      <td>25.274624</td>\n",
       "    </tr>\n",
       "    <tr>\n",
       "      <th>2015-01-09</th>\n",
       "      <td>28.312500</td>\n",
       "      <td>27.552500</td>\n",
       "      <td>28.167500</td>\n",
       "      <td>28.002501</td>\n",
       "      <td>214798000.0</td>\n",
       "      <td>25.301731</td>\n",
       "    </tr>\n",
       "    <tr>\n",
       "      <th>2015-01-12</th>\n",
       "      <td>28.157499</td>\n",
       "      <td>27.200001</td>\n",
       "      <td>28.150000</td>\n",
       "      <td>27.312500</td>\n",
       "      <td>198603200.0</td>\n",
       "      <td>24.678280</td>\n",
       "    </tr>\n",
       "    <tr>\n",
       "      <th>2015-01-13</th>\n",
       "      <td>28.200001</td>\n",
       "      <td>27.227501</td>\n",
       "      <td>27.857500</td>\n",
       "      <td>27.555000</td>\n",
       "      <td>268367600.0</td>\n",
       "      <td>24.897392</td>\n",
       "    </tr>\n",
       "    <tr>\n",
       "      <th>2015-01-14</th>\n",
       "      <td>27.622499</td>\n",
       "      <td>27.125000</td>\n",
       "      <td>27.260000</td>\n",
       "      <td>27.450001</td>\n",
       "      <td>195826400.0</td>\n",
       "      <td>24.802519</td>\n",
       "    </tr>\n",
       "    <tr>\n",
       "      <th>2015-01-15</th>\n",
       "      <td>27.514999</td>\n",
       "      <td>26.665001</td>\n",
       "      <td>27.500000</td>\n",
       "      <td>26.705000</td>\n",
       "      <td>240056000.0</td>\n",
       "      <td>24.129368</td>\n",
       "    </tr>\n",
       "  </tbody>\n",
       "</table>\n",
       "</div>"
      ],
      "text/plain": [
       "                 High        Low       Open      Close       Volume  Adj Close\n",
       "Date                                                                          \n",
       "2015-01-02  27.860001  26.837500  27.847500  27.332500  212818400.0  24.696352\n",
       "2015-01-05  27.162500  26.352501  27.072500  26.562500  257142000.0  24.000614\n",
       "2015-01-06  26.857500  26.157499  26.635000  26.565001  263188400.0  24.002876\n",
       "2015-01-07  27.049999  26.674999  26.799999  26.937500  160423600.0  24.339447\n",
       "2015-01-08  28.037500  27.174999  27.307501  27.972500  237458000.0  25.274624\n",
       "2015-01-09  28.312500  27.552500  28.167500  28.002501  214798000.0  25.301731\n",
       "2015-01-12  28.157499  27.200001  28.150000  27.312500  198603200.0  24.678280\n",
       "2015-01-13  28.200001  27.227501  27.857500  27.555000  268367600.0  24.897392\n",
       "2015-01-14  27.622499  27.125000  27.260000  27.450001  195826400.0  24.802519\n",
       "2015-01-15  27.514999  26.665001  27.500000  26.705000  240056000.0  24.129368"
      ]
     },
     "execution_count": 3,
     "metadata": {},
     "output_type": "execute_result"
    }
   ],
   "source": [
    "apple = wb.DataReader('AAPL',data_source='yahoo', start='2015-1-1', end='2017-1-1')\n",
    "apple.head(10)"
   ]
  },
  {
   "cell_type": "code",
   "execution_count": 4,
   "metadata": {},
   "outputs": [
    {
     "data": {
      "text/html": [
       "<div>\n",
       "<style scoped>\n",
       "    .dataframe tbody tr th:only-of-type {\n",
       "        vertical-align: middle;\n",
       "    }\n",
       "\n",
       "    .dataframe tbody tr th {\n",
       "        vertical-align: top;\n",
       "    }\n",
       "\n",
       "    .dataframe thead th {\n",
       "        text-align: right;\n",
       "    }\n",
       "</style>\n",
       "<table border=\"1\" class=\"dataframe\">\n",
       "  <thead>\n",
       "    <tr style=\"text-align: right;\">\n",
       "      <th></th>\n",
       "      <th>High</th>\n",
       "      <th>Low</th>\n",
       "      <th>Open</th>\n",
       "      <th>Close</th>\n",
       "      <th>Volume</th>\n",
       "      <th>Adj Close</th>\n",
       "    </tr>\n",
       "    <tr>\n",
       "      <th>Date</th>\n",
       "      <th></th>\n",
       "      <th></th>\n",
       "      <th></th>\n",
       "      <th></th>\n",
       "      <th></th>\n",
       "      <th></th>\n",
       "    </tr>\n",
       "  </thead>\n",
       "  <tbody>\n",
       "    <tr>\n",
       "      <th>2016-12-23</th>\n",
       "      <td>29.129999</td>\n",
       "      <td>28.897499</td>\n",
       "      <td>28.897499</td>\n",
       "      <td>29.129999</td>\n",
       "      <td>56998000.0</td>\n",
       "      <td>27.364527</td>\n",
       "    </tr>\n",
       "    <tr>\n",
       "      <th>2016-12-27</th>\n",
       "      <td>29.450001</td>\n",
       "      <td>29.122499</td>\n",
       "      <td>29.129999</td>\n",
       "      <td>29.315001</td>\n",
       "      <td>73187600.0</td>\n",
       "      <td>27.538317</td>\n",
       "    </tr>\n",
       "    <tr>\n",
       "      <th>2016-12-28</th>\n",
       "      <td>29.504999</td>\n",
       "      <td>29.049999</td>\n",
       "      <td>29.379999</td>\n",
       "      <td>29.190001</td>\n",
       "      <td>83623600.0</td>\n",
       "      <td>27.420895</td>\n",
       "    </tr>\n",
       "    <tr>\n",
       "      <th>2016-12-29</th>\n",
       "      <td>29.277500</td>\n",
       "      <td>29.100000</td>\n",
       "      <td>29.112499</td>\n",
       "      <td>29.182501</td>\n",
       "      <td>60158000.0</td>\n",
       "      <td>27.413847</td>\n",
       "    </tr>\n",
       "    <tr>\n",
       "      <th>2016-12-30</th>\n",
       "      <td>29.299999</td>\n",
       "      <td>28.857500</td>\n",
       "      <td>29.162500</td>\n",
       "      <td>28.955000</td>\n",
       "      <td>122345200.0</td>\n",
       "      <td>27.200134</td>\n",
       "    </tr>\n",
       "  </tbody>\n",
       "</table>\n",
       "</div>"
      ],
      "text/plain": [
       "                 High        Low       Open      Close       Volume  Adj Close\n",
       "Date                                                                          \n",
       "2016-12-23  29.129999  28.897499  28.897499  29.129999   56998000.0  27.364527\n",
       "2016-12-27  29.450001  29.122499  29.129999  29.315001   73187600.0  27.538317\n",
       "2016-12-28  29.504999  29.049999  29.379999  29.190001   83623600.0  27.420895\n",
       "2016-12-29  29.277500  29.100000  29.112499  29.182501   60158000.0  27.413847\n",
       "2016-12-30  29.299999  28.857500  29.162500  28.955000  122345200.0  27.200134"
      ]
     },
     "execution_count": 4,
     "metadata": {},
     "output_type": "execute_result"
    }
   ],
   "source": [
    "apple.tail()"
   ]
  },
  {
   "cell_type": "code",
   "execution_count": 5,
   "metadata": {},
   "outputs": [
    {
     "data": {
      "text/plain": [
       "pandas.core.frame.DataFrame"
      ]
     },
     "execution_count": 5,
     "metadata": {},
     "output_type": "execute_result"
    }
   ],
   "source": [
    "type(apple)"
   ]
  },
  {
   "cell_type": "markdown",
   "metadata": {},
   "source": [
    "Calculo tasa retorno"
   ]
  },
  {
   "cell_type": "code",
   "execution_count": 6,
   "metadata": {},
   "outputs": [
    {
     "name": "stdout",
     "output_type": "stream",
     "text": [
      "Date\n",
      "2015-01-02         NaN\n",
      "2015-01-05   -0.028172\n",
      "2015-01-06    0.000094\n",
      "2015-01-07    0.014022\n",
      "2015-01-08    0.038422\n",
      "                ...   \n",
      "2016-12-23    0.001978\n",
      "2016-12-27    0.006351\n",
      "2016-12-28   -0.004264\n",
      "2016-12-29   -0.000257\n",
      "2016-12-30   -0.007796\n",
      "Name: Tasa de retorno, Length: 504, dtype: float64\n"
     ]
    }
   ],
   "source": [
    "apple['Tasa de retorno'] =(apple['Adj Close']/apple['Adj Close'].shift(1)) -1\n",
    "print(apple['Tasa de retorno'])"
   ]
  },
  {
   "cell_type": "markdown",
   "metadata": {},
   "source": [
    "# Retorno de un portafolio"
   ]
  },
  {
   "cell_type": "code",
   "execution_count": 7,
   "metadata": {},
   "outputs": [
    {
     "name": "stdout",
     "output_type": "stream",
     "text": [
      "<class 'pandas.core.frame.DataFrame'>\n",
      "DatetimeIndex: 494 entries, 2019-01-02 to 2020-12-15\n",
      "Data columns (total 5 columns):\n",
      " #   Column  Non-Null Count  Dtype  \n",
      "---  ------  --------------  -----  \n",
      " 0   MSFT    494 non-null    float64\n",
      " 1   AMZN    494 non-null    float64\n",
      " 2   TSLA    494 non-null    float64\n",
      " 3   V       494 non-null    float64\n",
      " 4   FB      494 non-null    float64\n",
      "dtypes: float64(5)\n",
      "memory usage: 23.2 KB\n"
     ]
    }
   ],
   "source": [
    "tickers=['MSFT','AMZN','TSLA','V','FB']\n",
    "mydata=pd.DataFrame()\n",
    "for t in tickers:\n",
    "    mydata[t]=wb.DataReader(t,data_source='yahoo',start='01-01-2019')['Adj Close']\n",
    "    \n",
    "mydata.info()"
   ]
  },
  {
   "cell_type": "code",
   "execution_count": 8,
   "metadata": {},
   "outputs": [
    {
     "data": {
      "text/html": [
       "<div>\n",
       "<style scoped>\n",
       "    .dataframe tbody tr th:only-of-type {\n",
       "        vertical-align: middle;\n",
       "    }\n",
       "\n",
       "    .dataframe tbody tr th {\n",
       "        vertical-align: top;\n",
       "    }\n",
       "\n",
       "    .dataframe thead th {\n",
       "        text-align: right;\n",
       "    }\n",
       "</style>\n",
       "<table border=\"1\" class=\"dataframe\">\n",
       "  <thead>\n",
       "    <tr style=\"text-align: right;\">\n",
       "      <th></th>\n",
       "      <th>MSFT</th>\n",
       "      <th>AMZN</th>\n",
       "      <th>TSLA</th>\n",
       "      <th>V</th>\n",
       "      <th>FB</th>\n",
       "    </tr>\n",
       "  </thead>\n",
       "  <tbody>\n",
       "    <tr>\n",
       "      <th>2019-01-02</th>\n",
       "      <td>98.602066</td>\n",
       "      <td>1539.130005</td>\n",
       "      <td>62.023998</td>\n",
       "      <td>131.264542</td>\n",
       "      <td>135.679993</td>\n",
       "    </tr>\n",
       "    <tr>\n",
       "      <th>2019-01-03</th>\n",
       "      <td>94.974693</td>\n",
       "      <td>1500.280029</td>\n",
       "      <td>60.071999</td>\n",
       "      <td>126.534225</td>\n",
       "      <td>131.740005</td>\n",
       "    </tr>\n",
       "    <tr>\n",
       "      <th>2019-01-04</th>\n",
       "      <td>99.391899</td>\n",
       "      <td>1575.390015</td>\n",
       "      <td>63.537998</td>\n",
       "      <td>131.985474</td>\n",
       "      <td>137.949997</td>\n",
       "    </tr>\n",
       "    <tr>\n",
       "      <th>2019-01-07</th>\n",
       "      <td>99.518669</td>\n",
       "      <td>1629.510010</td>\n",
       "      <td>66.991997</td>\n",
       "      <td>134.365448</td>\n",
       "      <td>138.050003</td>\n",
       "    </tr>\n",
       "    <tr>\n",
       "      <th>2019-01-08</th>\n",
       "      <td>100.240234</td>\n",
       "      <td>1656.579956</td>\n",
       "      <td>67.070000</td>\n",
       "      <td>135.096252</td>\n",
       "      <td>142.529999</td>\n",
       "    </tr>\n",
       "  </tbody>\n",
       "</table>\n",
       "</div>"
      ],
      "text/plain": [
       "                  MSFT         AMZN       TSLA           V          FB\n",
       "2019-01-02   98.602066  1539.130005  62.023998  131.264542  135.679993\n",
       "2019-01-03   94.974693  1500.280029  60.071999  126.534225  131.740005\n",
       "2019-01-04   99.391899  1575.390015  63.537998  131.985474  137.949997\n",
       "2019-01-07   99.518669  1629.510010  66.991997  134.365448  138.050003\n",
       "2019-01-08  100.240234  1656.579956  67.070000  135.096252  142.529999"
      ]
     },
     "execution_count": 8,
     "metadata": {},
     "output_type": "execute_result"
    }
   ],
   "source": [
    "mydata.head()"
   ]
  },
  {
   "cell_type": "code",
   "execution_count": 9,
   "metadata": {},
   "outputs": [
    {
     "data": {
      "text/html": [
       "<div>\n",
       "<style scoped>\n",
       "    .dataframe tbody tr th:only-of-type {\n",
       "        vertical-align: middle;\n",
       "    }\n",
       "\n",
       "    .dataframe tbody tr th {\n",
       "        vertical-align: top;\n",
       "    }\n",
       "\n",
       "    .dataframe thead th {\n",
       "        text-align: right;\n",
       "    }\n",
       "</style>\n",
       "<table border=\"1\" class=\"dataframe\">\n",
       "  <thead>\n",
       "    <tr style=\"text-align: right;\">\n",
       "      <th></th>\n",
       "      <th>MSFT</th>\n",
       "      <th>AMZN</th>\n",
       "      <th>TSLA</th>\n",
       "      <th>V</th>\n",
       "      <th>FB</th>\n",
       "    </tr>\n",
       "  </thead>\n",
       "  <tbody>\n",
       "    <tr>\n",
       "      <th>2020-12-09</th>\n",
       "      <td>211.800003</td>\n",
       "      <td>3104.199951</td>\n",
       "      <td>604.479980</td>\n",
       "      <td>209.580002</td>\n",
       "      <td>277.920013</td>\n",
       "    </tr>\n",
       "    <tr>\n",
       "      <th>2020-12-10</th>\n",
       "      <td>210.520004</td>\n",
       "      <td>3101.489990</td>\n",
       "      <td>627.070007</td>\n",
       "      <td>207.610001</td>\n",
       "      <td>277.119995</td>\n",
       "    </tr>\n",
       "    <tr>\n",
       "      <th>2020-12-11</th>\n",
       "      <td>213.259995</td>\n",
       "      <td>3116.419922</td>\n",
       "      <td>609.989990</td>\n",
       "      <td>206.240005</td>\n",
       "      <td>273.549988</td>\n",
       "    </tr>\n",
       "    <tr>\n",
       "      <th>2020-12-14</th>\n",
       "      <td>214.199997</td>\n",
       "      <td>3156.969971</td>\n",
       "      <td>639.830017</td>\n",
       "      <td>207.250000</td>\n",
       "      <td>274.190002</td>\n",
       "    </tr>\n",
       "    <tr>\n",
       "      <th>2020-12-15</th>\n",
       "      <td>214.130005</td>\n",
       "      <td>3165.120117</td>\n",
       "      <td>633.250000</td>\n",
       "      <td>208.360001</td>\n",
       "      <td>275.549988</td>\n",
       "    </tr>\n",
       "  </tbody>\n",
       "</table>\n",
       "</div>"
      ],
      "text/plain": [
       "                  MSFT         AMZN        TSLA           V          FB\n",
       "2020-12-09  211.800003  3104.199951  604.479980  209.580002  277.920013\n",
       "2020-12-10  210.520004  3101.489990  627.070007  207.610001  277.119995\n",
       "2020-12-11  213.259995  3116.419922  609.989990  206.240005  273.549988\n",
       "2020-12-14  214.199997  3156.969971  639.830017  207.250000  274.190002\n",
       "2020-12-15  214.130005  3165.120117  633.250000  208.360001  275.549988"
      ]
     },
     "execution_count": 9,
     "metadata": {},
     "output_type": "execute_result"
    }
   ],
   "source": [
    "mydata.tail()"
   ]
  },
  {
   "cell_type": "code",
   "execution_count": 10,
   "metadata": {},
   "outputs": [
    {
     "data": {
      "image/png": "[encoded data removed]",
      "text/plain": [
       "<Figure size 1080x432 with 1 Axes>"
      ]
     },
     "metadata": {
      "needs_background": "light"
     },
     "output_type": "display_data"
    }
   ],
   "source": [
    "(mydata / mydata.iloc[0]*100).plot(figsize = (15,6));"
   ]
  },
  {
   "cell_type": "code",
   "execution_count": 11,
   "metadata": {},
   "outputs": [
    {
     "data": {
      "text/html": [
       "<div>\n",
       "<style scoped>\n",
       "    .dataframe tbody tr th:only-of-type {\n",
       "        vertical-align: middle;\n",
       "    }\n",
       "\n",
       "    .dataframe tbody tr th {\n",
       "        vertical-align: top;\n",
       "    }\n",
       "\n",
       "    .dataframe thead th {\n",
       "        text-align: right;\n",
       "    }\n",
       "</style>\n",
       "<table border=\"1\" class=\"dataframe\">\n",
       "  <thead>\n",
       "    <tr style=\"text-align: right;\">\n",
       "      <th></th>\n",
       "      <th>MSFT</th>\n",
       "      <th>AMZN</th>\n",
       "      <th>TSLA</th>\n",
       "      <th>V</th>\n",
       "      <th>FB</th>\n",
       "    </tr>\n",
       "  </thead>\n",
       "  <tbody>\n",
       "    <tr>\n",
       "      <th>2019-01-02</th>\n",
       "      <td>NaN</td>\n",
       "      <td>NaN</td>\n",
       "      <td>NaN</td>\n",
       "      <td>NaN</td>\n",
       "      <td>NaN</td>\n",
       "    </tr>\n",
       "    <tr>\n",
       "      <th>2019-01-03</th>\n",
       "      <td>-0.036788</td>\n",
       "      <td>-0.025242</td>\n",
       "      <td>-0.031472</td>\n",
       "      <td>-0.036037</td>\n",
       "      <td>-0.029039</td>\n",
       "    </tr>\n",
       "    <tr>\n",
       "      <th>2019-01-04</th>\n",
       "      <td>0.046509</td>\n",
       "      <td>0.050064</td>\n",
       "      <td>0.057697</td>\n",
       "      <td>0.043081</td>\n",
       "      <td>0.047138</td>\n",
       "    </tr>\n",
       "    <tr>\n",
       "      <th>2019-01-07</th>\n",
       "      <td>0.001275</td>\n",
       "      <td>0.034353</td>\n",
       "      <td>0.054361</td>\n",
       "      <td>0.018032</td>\n",
       "      <td>0.000725</td>\n",
       "    </tr>\n",
       "    <tr>\n",
       "      <th>2019-01-08</th>\n",
       "      <td>0.007251</td>\n",
       "      <td>0.016612</td>\n",
       "      <td>0.001164</td>\n",
       "      <td>0.005439</td>\n",
       "      <td>0.032452</td>\n",
       "    </tr>\n",
       "  </tbody>\n",
       "</table>\n",
       "</div>"
      ],
      "text/plain": [
       "                MSFT      AMZN      TSLA         V        FB\n",
       "2019-01-02       NaN       NaN       NaN       NaN       NaN\n",
       "2019-01-03 -0.036788 -0.025242 -0.031472 -0.036037 -0.029039\n",
       "2019-01-04  0.046509  0.050064  0.057697  0.043081  0.047138\n",
       "2019-01-07  0.001275  0.034353  0.054361  0.018032  0.000725\n",
       "2019-01-08  0.007251  0.016612  0.001164  0.005439  0.032452"
      ]
     },
     "execution_count": 11,
     "metadata": {},
     "output_type": "execute_result"
    }
   ],
   "source": [
    "returns=(mydata/mydata.shift(1)) -1\n",
    "returns.head()"
   ]
  },
  {
   "cell_type": "code",
   "execution_count": 12,
   "metadata": {},
   "outputs": [
    {
     "data": {
      "text/plain": [
       "0.6062252321479382"
      ]
     },
     "execution_count": 12,
     "metadata": {},
     "output_type": "execute_result"
    }
   ],
   "source": [
    "weights = np.array([0.20,0.20,0.20,0.20,0.20])\n",
    "anual_returns = returns.mean()*250\n",
    "np.dot(anual_returns,weights)"
   ]
  },
  {
   "cell_type": "code",
   "execution_count": 13,
   "metadata": {},
   "outputs": [
    {
     "name": "stdout",
     "output_type": "stream",
     "text": [
      "60.62%\n"
     ]
    }
   ],
   "source": [
    "pf1 = str(round(np.dot(anual_returns,weights),4)*100)+'%'\n",
    "print(pf1)"
   ]
  },
  {
   "cell_type": "code",
   "execution_count": 14,
   "metadata": {},
   "outputs": [],
   "source": [
    "START_DATE='2009-01-01'\n",
    "END_DATE='2019-12-31'\n",
    "AMAZON='AMZN'"
   ]
  },
  {
   "cell_type": "code",
   "execution_count": null,
   "metadata": {},
   "outputs": [],
   "source": [
    "def get_data(ticker):\n",
    "    try:\n",
    "        stock_data="
   ]
  }
 ],
 "metadata": {
  "kernelspec": {
   "display_name": "Python 3",
   "language": "python",
   "name": "python3"
  },
  "language_info": {
   "codemirror_mode": {
    "name": "ipython",
    "version": 3
   },
   "file_extension": ".py",
   "mimetype": "text/x-python",
   "name": "python",
   "nbconvert_exporter": "python",
   "pygments_lexer": "ipython3",
   "version": "3.7.6"
  }
 },
 "nbformat": 4,
 "nbformat_minor": 4
}
